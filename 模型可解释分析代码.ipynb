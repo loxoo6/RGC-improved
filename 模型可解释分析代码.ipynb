{
  "nbformat": 4,
  "nbformat_minor": 0,
  "metadata": {
    "colab": {
      "private_outputs": true,
      "provenance": [],
      "authorship_tag": "ABX9TyOaE6kcJV01SfKwZpAW5dnn",
      "include_colab_link": true
    },
    "kernelspec": {
      "name": "python3",
      "display_name": "Python 3"
    },
    "language_info": {
      "name": "python"
    }
  },
  "cells": [
    {
      "cell_type": "markdown",
      "metadata": {
        "id": "view-in-github",
        "colab_type": "text"
      },
      "source": [
        "<a href=\"https://colab.research.google.com/github/loxoo6/RGC-improved/blob/main/Untitled18.ipynb\" target=\"_parent\"><img src=\"https://colab.research.google.com/assets/colab-badge.svg\" alt=\"Open In Colab\"/></a>"
      ]
    },
    {
      "cell_type": "code",
      "execution_count": null,
      "metadata": {
        "id": "ruJ6ibnOAo3Z"
      },
      "outputs": [],
      "source": [
        "import pandas as pd\n",
        "import numpy as np\n",
        "from sklearn.model_selection import train_test_split\n",
        "import shap\n",
        "from sklearn.ensemble import RandomForestClassifier\n",
        "\n",
        "# 加载数据\n",
        "data = pd.read_csv('Bai248.csv')\n",
        "\n",
        "# 特征和标签\n",
        "X = data[['AC', 'CNL', 'DEN', 'GR', 'SP', 'RT']]\n",
        "y = data['label']"
      ]
    },
    {
      "cell_type": "code",
      "source": [
        "# 划分训练集和测试集\n",
        "X_train, X_test, y_train, y_test = train_test_split(X, y, test_size=0.2, random_state=42)\n",
        "\n",
        "# 训练随机森林分类器\n",
        "model = RandomForestClassifier(n_estimators=100, random_state=42)\n",
        "model.fit(X_train, y_train)"
      ],
      "metadata": {
        "id": "hjSHQPN6BCKJ"
      },
      "execution_count": null,
      "outputs": []
    },
    {
      "cell_type": "code",
      "source": [
        "# 初始化SHAP解释器\n",
        "explainer = shap.TreeExplainer(model)\n",
        "\n",
        "# 计算SHAP值\n",
        "shap_values = explainer.shap_values(X_test)\n",
        "\n",
        "# 可视化SHAP值\n",
        "shap.summary_plot(shap_values, X_test, feature_names=['AC', 'CNL', 'DEN', 'GR', 'SP', 'RT'])"
      ],
      "metadata": {
        "id": "6auu873LBF8H"
      },
      "execution_count": null,
      "outputs": []
    },
    {
      "cell_type": "code",
      "source": [
        "pip install shap xgboost scikit-learn pandas\n"
      ],
      "metadata": {
        "id": "QseS7giWLN9l"
      },
      "execution_count": null,
      "outputs": []
    },
    {
      "cell_type": "code",
      "source": [
        "import pandas as pd\n",
        "import xgboost as xgb\n",
        "from sklearn.model_selection import train_test_split\n",
        "import shap\n",
        "\n",
        "# Load your data\n",
        "data = pd.read_csv('Bai248.csv')\n",
        "\n",
        "# Prepare features and target\n",
        "X = data.drop(columns=['label', 'DEPTH'])\n",
        "y = data['label']\n",
        "\n",
        "# Split into training and test sets\n",
        "X_train, X_test, y_train, y_test = train_test_split(X, y, test_size=0.2, random_state=42)\n",
        "\n",
        "# Train XGBoost model\n",
        "model = xgb.XGBClassifier(objective='multi:softmax', num_class=len(y.unique()))\n",
        "model.fit(X_train, y_train)\n",
        "\n",
        "# Create SHAP explainer and calculate SHAP values\n",
        "explainer = shap.TreeExplainer(model)\n",
        "shap_values = explainer.shap_values(X_test)\n",
        "\n",
        "# Visualize the SHAP summary plot\n",
        "shap.summary_plot(shap_values, X_test)\n"
      ],
      "metadata": {
        "id": "THTti_zyLO3H"
      },
      "execution_count": null,
      "outputs": []
    },
    {
      "cell_type": "code",
      "source": [
        "import xgboost as xgb\n",
        "import shap\n",
        "import pandas as pd\n",
        "import matplotlib.pyplot as plt\n",
        "from sklearn.model_selection import train_test_split\n",
        "\n",
        "# Load data\n",
        "data = pd.read_csv('/content/Bai248.csv')  # Update this to your actual file path\n",
        "X = data.drop(columns=['label', 'DEPTH'])  # Features: drop 'label' (target) and 'DEPTH'\n",
        "y = data['label']  # Target variable\n",
        "\n",
        "# Split data into training and testing sets\n",
        "X_train, X_test, y_train, y_test = train_test_split(X, y, test_size=0.2, random_state=42)\n",
        "\n",
        "# Train an XGBoost regression model\n",
        "model = xgb.XGBRegressor(n_estimators=100, learning_rate=0.1, max_depth=5)\n",
        "model.fit(X_train, y_train)\n",
        "\n",
        "# Compute SHAP values\n",
        "explainer = shap.Explainer(model, X_train)  # Create SHAP explainer using training data\n",
        "shap_values = explainer(X_test)  # Calculate SHAP values for test data\n",
        "\n",
        "# Generate SHAP Summary Plot with custom x-axis label\n",
        "shap.summary_plot(shap_values, X_test, show=False)  # show=False to customize plot\n",
        "plt.xlabel('SHAP Value')  # Set x-axis label to \"SHAP值\" (SHAP value)\n",
        "plt.show()  # Display the plot"
      ],
      "metadata": {
        "id": "bFvPbW2ILYdj"
      },
      "execution_count": null,
      "outputs": []
    },
    {
      "cell_type": "code",
      "source": [
        "import xgboost as xgb\n",
        "import shap\n",
        "import pandas as pd\n",
        "import matplotlib.pyplot as plt\n",
        "from sklearn.model_selection import train_test_split\n",
        "\n",
        "# 设置全局字体为 Times New Roman，大小为 12pt\n",
        "plt.rcParams['font.family'] = 'serif'\n",
        "plt.rcParams['font.serif'] = ['Times New Roman'] + plt.rcParams['font.serif']\n",
        "plt.rcParams['font.size'] = 12\n",
        "\n",
        "# Load data\n",
        "data = pd.read_csv('/content/Bai248.csv')  # Update this to your actual file path\n",
        "X = data.drop(columns=['label', 'DEPTH'])  # Features: drop 'label' (target) and 'DEPTH'\n",
        "y = data['label']  # Target variable\n",
        "\n",
        "# Split data into training and testing sets\n",
        "X_train, X_test, y_train, y_test = train_test_split(X, y, test_size=0.2, random_state=42)\n",
        "\n",
        "# Train an XGBoost regression model\n",
        "model = xgb.XGBRegressor(n_estimators=100, learning_rate=0.1, max_depth=5)\n",
        "model.fit(X_train, y_train)\n",
        "\n",
        "# Compute SHAP values\n",
        "explainer = shap.Explainer(model, X_train)  # Create SHAP explainer using training data\n",
        "shap_values = explainer(X_test)  # Calculate SHAP values for test data\n",
        "\n",
        "# Generate SHAP Summary Plot with custom x-axis label\n",
        "shap.summary_plot(shap_values, X_test, show=False)  # show=False to customize plot\n",
        "plt.xlabel('SHAP Value', fontsize=12)  # 设置 x 轴标签为 \"SHAP Value\"，字体大小 12pt\n",
        "\n",
        "# 保存为 SVG 格式\n",
        "plt.savefig('shap_summary_plot.svg', format='svg', dpi=300, bbox_inches='tight')\n",
        "\n",
        "# 显示图表\n",
        "plt.show()"
      ],
      "metadata": {
        "id": "uKR55keiGiIQ"
      },
      "execution_count": null,
      "outputs": []
    },
    {
      "cell_type": "code",
      "source": [
        "import xgboost as xgb\n",
        "import shap\n",
        "import pandas as pd\n",
        "import matplotlib.pyplot as plt\n",
        "from sklearn.model_selection import train_test_split\n",
        "\n",
        "# 设置全局字体为 Times New Roman，大小为 12pt\n",
        "plt.rcParams['font.family'] = 'serif'\n",
        "plt.rcParams['font.serif'] = ['Times New Roman'] + plt.rcParams['font.serif']\n",
        "plt.rcParams['font.size'] = 12\n",
        "\n",
        "# 载入数据\n",
        "data = pd.read_csv('/content/Bai248.csv')  # 修改为实际文件路径\n",
        "X = data.drop(columns=['label', 'DEPTH'])  # 假设label是你想预测的目标\n",
        "y = data['label']\n",
        "\n",
        "# 拆分数据\n",
        "X_train, X_test, y_train, y_test = train_test_split(X, y, test_size=0.2, random_state=42)\n",
        "\n",
        "# 训练XGBoost模型\n",
        "model = xgb.XGBRegressor(n_estimators=100, learning_rate=0.1, max_depth=5)\n",
        "model.fit(X_train, y_train)\n",
        "\n",
        "# 获取特征重要性（基于信息增益）\n",
        "importance = model.feature_importances_\n",
        "\n",
        "# 可视化特征重要性\n",
        "plt.figure(figsize=(10, 6))\n",
        "plt.barh(X.columns, importance, color='skyblue', edgecolor='black')  # 添加颜色和边框美化\n",
        "plt.xlabel('Feature Importance', fontsize=12)  # 设置x轴标签，字体大小12pt\n",
        "plt.ylabel('Features', fontsize=12)  # 设置y轴标签，字体大小12pt\n",
        "\n",
        "# 调整布局\n",
        "plt.tight_layout()\n",
        "\n",
        "# 保存为 SVG 格式\n",
        "plt.savefig('feature_importance.svg', format='svg', dpi=300, bbox_inches='tight')\n",
        "\n",
        "# 显示图表\n",
        "plt.show()"
      ],
      "metadata": {
        "id": "ZrBhvFmAbjSE"
      },
      "execution_count": null,
      "outputs": []
    },
    {
      "cell_type": "code",
      "source": [
        "import numpy as np\n",
        "import matplotlib.pyplot as plt\n",
        "\n",
        "# 设置全局字体为 Times New Roman，大小为 12pt\n",
        "plt.rcParams['font.family'] = 'serif'\n",
        "plt.rcParams['font.serif'] = ['Times New Roman'] + plt.rcParams['font.serif']\n",
        "plt.rcParams['font.size'] = 12\n",
        "\n",
        "# 类别（特征名称）\n",
        "categories = ['GR', 'SP', 'RT', 'DEN', 'CNL', 'AC']\n",
        "n_categories = len(categories)\n",
        "\n",
        "# 调整后的数据（根据原图分布）s\n",
        "# 每个 Label 的值范围在 0 到 1 之间，模拟原图中的分布\n",
        "values_label0 = [0.28, 0.9, 0.41, 0.65, 0.43, 0.62]  # 蓝色：较高值，覆盖范围广\n",
        "values_label1 = [0.1, 0.8, 0.1, 0.8, 0.22, 0.3]  # 橙色：较低值，分布集中\n",
        "values_label2 = [0.08, 0.5, 0.2, 0.8, 0.18, 0.24]  # 绿色：中等值，均匀分布\n",
        "values_label3 = [0.1, 0.82, 0.02, 0.9, 0.18, 0.23]  # 红色：最高值，覆盖范围最大\n",
        "\n",
        "# 确保数据闭合（回到起点）\n",
        "values_label0 += values_label0[:1]\n",
        "values_label1 += values_label1[:1]\n",
        "values_label2 += values_label2[:1]\n",
        "values_label3 += values_label3[:1]\n",
        "\n",
        "# 计算角度\n",
        "angles = np.linspace(0, 2 * np.pi, n_categories, endpoint=False).tolist()\n",
        "angles += angles[:1]  # 闭合角度\n",
        "\n",
        "# 创建图表\n",
        "fig, ax = plt.subplots(figsize=(8, 8), subplot_kw=dict(polar=True))\n",
        "\n",
        "# 绘制雷达图\n",
        "ax.fill(angles, values_label0, color='blue', alpha=0.2, label='Label 0')\n",
        "ax.fill(angles, values_label1, color='orange', alpha=0.2, label='Label 1')\n",
        "ax.fill(angles, values_label2, color='green', alpha=0.2, label='Label 2')\n",
        "ax.fill(angles, values_label3, color='red', alpha=0.2, label='Label 3')\n",
        "\n",
        "# 绘制边框线\n",
        "ax.plot(angles, values_label0, color='blue', linewidth=1)\n",
        "ax.plot(angles, values_label1, color='orange', linewidth=1)\n",
        "ax.plot(angles, values_label2, color='green', linewidth=1)\n",
        "ax.plot(angles, values_label3, color='red', linewidth=1)\n",
        "\n",
        "# 设置刻度\n",
        "ax.set_yticks([0.2, 0.4, 0.6, 0.8, 1.0])\n",
        "ax.set_yticklabels([0.2, 0.4, 0.6, 0.8, 1.0], fontsize=12)\n",
        "\n",
        "# 设置类别标签\n",
        "ax.set_xticks(angles[:-1])\n",
        "ax.set_xticklabels(categories, fontsize=12)\n",
        "\n",
        "# 添加图例\n",
        "ax.legend(loc='upper right', bbox_to_anchor=(1.1, 1.1), fontsize=12)\n",
        "\n",
        "# 美化图表，移除多余边框\n",
        "ax.spines['polar'].set_visible(False)\n",
        "ax.grid(True, linestyle='--', alpha=0.6)\n",
        "\n",
        "# 调整布局\n",
        "plt.tight_layout()\n",
        "\n",
        "# 保存为 SVG 格式\n",
        "plt.savefig('radar_plot.svg', format='svg', dpi=300, bbox_inches='tight')\n",
        "\n",
        "# 显示图表\n",
        "plt.show()"
      ],
      "metadata": {
        "id": "9f0E2266ORfL"
      },
      "execution_count": null,
      "outputs": []
    },
    {
      "cell_type": "code",
      "source": [
        "import numpy as np\n",
        "import matplotlib.pyplot as plt\n",
        "\n",
        "# 设置全局字体为 Times New Roman，大小为 12pt\n",
        "plt.rcParams['font.family'] = 'serif'\n",
        "plt.rcParams['font.serif'] = ['Times New Roman'] + plt.rcParams['font.serif']\n",
        "plt.rcParams['font.size'] = 12\n",
        "\n",
        "# 模拟数据（根据原图分布）\n",
        "x = np.array([0, 1, 2, 3])  # K-均值数，调整为 4 个点\n",
        "\n",
        "# 绿色折线（SC）：根据原图估计\n",
        "y_sc = np.array([0.22, 0.40, 0.35, 0.28])  # SC 的值\n",
        "\n",
        "# 红色折线（CHI10000）：根据原图估计\n",
        "y_chi = np.array([0.45, 0.82, 0.78, 0.60])  # CHI10000 的值\n",
        "\n",
        "# 创建图表\n",
        "plt.figure(figsize=(10, 6))\n",
        "\n",
        "# 绘制折线图\n",
        "plt.plot(x, y_sc, marker='^', color='green', linewidth=2, label='SC', markersize=8)\n",
        "plt.plot(x, y_chi, marker='o', color='red', linewidth=2, label='CHI/10000', markersize=8)\n",
        "\n",
        "# 设置坐标轴标签和标题\n",
        "plt.xlabel('隐藏层维数', fontsize=12)\n",
        "\n",
        "# 设置坐标轴范围\n",
        "plt.xlim(-0.5, 3.5)  # 调整 x 轴范围为 0-3\n",
        "plt.ylim(0, 1.4)\n",
        "\n",
        "# 添加网格\n",
        "plt.grid(True, linestyle='--', alpha=0.6)\n",
        "\n",
        "# 添加图例\n",
        "plt.legend(fontsize=12)\n",
        "\n",
        "# 调整布局\n",
        "plt.tight_layout()\n",
        "\n",
        "# 保存为 SVG 格式\n",
        "plt.savefig('kmeans_performance.svg', format='svg', dpi=300, bbox_inches='tight')\n",
        "\n",
        "# 显示图表\n",
        "plt.show()"
      ],
      "metadata": {
        "id": "utsAPn_GRkFR"
      },
      "execution_count": null,
      "outputs": []
    }
  ]
}
